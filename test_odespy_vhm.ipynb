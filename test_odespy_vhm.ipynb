{
 "cells": [
  {
   "cell_type": "code",
   "execution_count": 1,
   "metadata": {
    "collapsed": true
   },
   "outputs": [],
   "source": [
    "%matplotlib inline"
   ]
  },
  {
   "cell_type": "code",
   "execution_count": 2,
   "metadata": {
    "collapsed": true
   },
   "outputs": [],
   "source": [
    "import matplotlib.pyplot as plt\n",
    "import pandas as pd\n",
    "import numpy as np\n",
    "import odespy"
   ]
  },
  {
   "cell_type": "code",
   "execution_count": 3,
   "metadata": {
    "collapsed": true
   },
   "outputs": [],
   "source": [
    "import odespy"
   ]
  },
  {
   "cell_type": "code",
   "execution_count": 4,
   "metadata": {
    "collapsed": true
   },
   "outputs": [],
   "source": [
    "from scipy.interpolate import interp1d"
   ]
  },
  {
   "cell_type": "markdown",
   "metadata": {},
   "source": [
    "# VHM model implementation"
   ]
  },
  {
   "cell_type": "markdown",
   "metadata": {},
   "source": [
    "### EE wise"
   ]
  },
  {
   "cell_type": "code",
   "execution_count": 1,
   "metadata": {
    "collapsed": true
   },
   "outputs": [],
   "source": [
    "umax = 300.0\n",
    "uevap = 150.0\n",
    "\n",
    "c1s = 1.8\n",
    "c2s = 0.6\n",
    "c3s = 1.0\n",
    "\n",
    "c1o = -3.5\n",
    "c2o = 2.0\n",
    "c3o = 0.0\n",
    "c4o = -0.0\n",
    "\n",
    "c1i = -3.2\n",
    "c2i = 2.24\n",
    "c3i = 0.0\n",
    "c4i = 0.0\n",
    "\n",
    "nso = 1\n",
    "\n",
    "Kg = 2400.0\n",
    "Ki =120.0\n",
    "Ko =10.0\n",
    "\n",
    "#Define the constants\n",
    "area = 361.0\n",
    "\n",
    "#Define the initial conditions\n",
    "u = 170.0\n",
    "qg =1.0\n",
    "cg =0.0\n",
    "qo =0.0\n",
    "co =0.0\n",
    "qi =1.0\n",
    "ci =0.0"
   ]
  },
  {
   "cell_type": "markdown",
   "metadata": {},
   "source": [
    "DATA"
   ]
  },
  {
   "cell_type": "code",
   "execution_count": 2,
   "metadata": {
    "collapsed": false
   },
   "outputs": [],
   "source": [
    "# read data\n",
    "data = pd.read_csv(\"/media/DATA/Githubs/doctoraat/code_writing/data/nete/data_brach_case_nete.csv\", parse_dates=True, \n",
    "                  index_col=0)"
   ]
  },
  {
   "cell_type": "code",
   "execution_count": 3,
   "metadata": {
    "collapsed": false
   },
   "outputs": [],
   "source": [
    "raindata = data['2003']['rain']\n",
    "petdata = data['2003']['evapotranspiration']"
   ]
  },
  {
   "cell_type": "markdown",
   "metadata": {},
   "source": [
    "### Test EE"
   ]
  },
  {
   "cell_type": "code",
   "execution_count": 4,
   "metadata": {
    "collapsed": true
   },
   "outputs": [],
   "source": [
    "from numpy import float64"
   ]
  },
  {
   "cell_type": "code",
   "execution_count": 5,
   "metadata": {
    "collapsed": true
   },
   "outputs": [],
   "source": [
    "def VHM(Pars,Const,InitCond,Rain,ET, linear=True):\n",
    "\n",
    "    #Define the parameters\n",
    "    ##################################\n",
    "    #Storage model parameters\n",
    "    umax = float64(Pars[0])      #Maximum storage for soil moiture sompartiment\n",
    "    uevap = float64(Pars[1])\n",
    "    c1s = float64(Pars[2])\n",
    "    c2s = float64(Pars[3])\n",
    "    c3s = float64(Pars[4])\n",
    "    #OF model parameters\n",
    "    c1o = float64(Pars[5])\n",
    "    c2o = float64(Pars[6])\n",
    "    c3o = float64(Pars[7])      #eventueel aanpassen, zodat enkel c1 of c3 in te geven, vermits zelfde parameter...\n",
    "    c4o = float64(Pars[8])\n",
    "    #IF model parameters\n",
    "    c1i = float64(Pars[9])\n",
    "    c2i = float64(Pars[10])\n",
    "    c3i = float64(Pars[11])      #eventueel aanpassen, zodat enkel c1 of c3 in te geven, vermits zelfde parameter...\n",
    "    c4i = float64(Pars[12])\n",
    "    ns = Pars[13]       #antecedent day = # voorgaande dagen waarvan bui no in rekening gebracht\n",
    "    #Flow Routin parameter\n",
    "    Kg = float64(Pars[14])\n",
    "    Ki = float64(Pars[15])\n",
    "    Ko = float64(Pars[16])\n",
    "\n",
    "    #Define the constants\n",
    "    ##################################\n",
    "    area = float64(Const[0])     #catchment area\n",
    "    totn = Rain.size     #Timesteps (eigenlijk niet nodig als gepast inputs!)\n",
    "\n",
    "    #Define the initial conditions\n",
    "    ##################################\n",
    "    u = float64(InitCond[0])     #Soil moisture storage\n",
    "    qg = float64(InitCond[1])    #baseflow\n",
    "    cg = float64(InitCond[2])   #baseflow current timestep\n",
    "    qo = float64(InitCond[3])    #overland flow\n",
    "    co = float64(InitCond[4])    #overland flow current timestep\n",
    "    qi = float64(InitCond[5])    #interflow\n",
    "    ci = float64(InitCond[6])    #interflow current timestep\n",
    "\n",
    "    qr = qo + qi + qg\n",
    "    v = float64(area * 1000.0 / (60.0 * 60.0))    #mm to m3/s\n",
    "\n",
    "    #Define arrays for outputs\n",
    "    ##################################\n",
    "    t_out=np.zeros(totn)\n",
    "\n",
    "    q_out=np.zeros(totn,float64)\n",
    "    qo_out=np.zeros(totn,float64)\n",
    "    qi_out=np.zeros(totn,float64)\n",
    "    qg_out=np.zeros(totn,float64)\n",
    "\n",
    "    u_out=np.zeros(totn,float64)\n",
    "\n",
    "    fe_out=np.zeros(totn,float64)\n",
    "    fu_out=np.zeros(totn,float64)\n",
    "    fs_out=np.zeros(totn,float64)\n",
    "    fi_out=np.zeros(totn,float64)\n",
    "\n",
    "    s_out=np.zeros(totn,float64)\n",
    "    aet_out=np.zeros(totn,float64)\n",
    "\n",
    "    fs1_out=np.zeros(totn,float64)\n",
    "    fs2_out=np.zeros(totn,float64)\n",
    "    fi1_out=np.zeros(totn,float64)\n",
    "    fi2_out=np.zeros(totn,float64)\n",
    "\n",
    "    #Define array for moving window -antecedent rainfall\n",
    "    sb=np.zeros(ns+2)  #grootte nog te checken\n",
    "\n",
    "    #Start dynamic run\n",
    "    for t in range(totn):\n",
    "        neersl = float64(Rain[t])\n",
    "        evap = float64(ET[t])\n",
    "\n",
    "        #Soil Moisturs storage submodel\n",
    "        if linear == True:                     #for relation between soil moisture storage and fraction interflow/overland\n",
    "            fu = c1s - c2s*u/umax\n",
    "        else:\n",
    "            fu = c1s - np.exp(c2s*(u/umax)**c3s)  #corrct?!?hetgeen in exp zit (c2*u/umax**c3 moet dus eigenlijk negatief zijn...\n",
    "\n",
    "        #FractionSUM=1 corrector\n",
    "        if fu>1.0:\n",
    "            fu=float64(1.0)\n",
    "\n",
    "        #Evapotranspiration submodel  (ANDERS IN VISUAL BASIC?!?)\n",
    "        if u > uevap:\n",
    "            fe = evap\n",
    "        else:\n",
    "            fe = evap*u/(uevap)   #lineair\n",
    "\n",
    "        #Soil moisture balance\n",
    "        u = u + fu*neersl - fe   #Soil storage + neerslag - evapotranspiratie\n",
    "\n",
    "        #ANTECEDENT Rainfall to represent soil surface wetness\n",
    "        sb[ns + 1] = neersl\n",
    "        s = float64(0.0)\n",
    "        for ts in range(2,ns + 2):\n",
    "            sb[ts-1] = sb[ts]\n",
    "            s = s + sb[ts-1] / (ns*1.0)\n",
    "        cov = co\n",
    "        civ = ci\n",
    "        cgv = cg\n",
    "\n",
    "\n",
    "#########KANS 1 EN 2##################################\n",
    "##        #Fractions overland - pre\n",
    "##        fs1 = np.exp(c1o + c2o*u/umax)      #c1o en c3o zijn te combineren tot 1 parameter!\n",
    "##        if s > 0.0:\n",
    "##            fs2 = c3o + c4o * np.log(s)\n",
    "##        else:\n",
    "##            fs2 = 0.0\n",
    "##\n",
    "##        #fracties interflow - pre\n",
    "##        fi1 = np.exp(c1i + c2i*u/umax)      #c1i en c3i zijn te combineren tot 1 parameter!\n",
    "##        if s > 0.0:\n",
    "##            fi2 = c3i + c4i * np.log(s)\n",
    "##        else:\n",
    "##            fi2 = 0.0\n",
    "##\n",
    "####        ##KANS1##\n",
    "####        if s > 0:\n",
    "####            fs = np.exp(np.log(fs1) + fs2)\n",
    "####        else:\n",
    "####            fs = 0\n",
    "####\n",
    "####        if s > 0:\n",
    "####            fi = np.exp(np.log(fi1) + fi2)\n",
    "####        else:\n",
    "####            fi = 0\n",
    "##\n",
    "####        ##KANS2##\n",
    "##        fs = np.exp(np.log(fs1) + fs2)     #Fractions overland\n",
    "##        fi = np.exp(np.log(fi1) + fi2)     #Fractions interflow\n",
    "###################################################\n",
    "\n",
    "##########KANS3####################################\n",
    "        #Fractions overland - pre\n",
    "        fs1 = np.exp(c1o + c2o*u/umax)      #c1o en c3o zijn te combineren tot 1 parameter!\n",
    "        if s > 0.0:\n",
    "            fs2 = np.exp(c3o + c4o * np.log(s))\n",
    "        else:\n",
    "            fs2 = float64(0.0)\n",
    "\n",
    "        #fracties interflow - pre\n",
    "        fi1 = np.exp(c1i + c2i*u/umax)      #c1i en c3i zijn te combineren tot 1 parameter!\n",
    "        if s > 0.0:\n",
    "            fi2 = np.exp(c3i + c4i * np.log(s))\n",
    "        else:\n",
    "            fi2 = float64(0.0)\n",
    "\n",
    "        fs = fs1*fs2     #Fractions overland\n",
    "\n",
    "        #FractionSUM=1 corrector\n",
    "        if fu+fs > 1.0:\n",
    "            fs=float64(1.0)-fu\n",
    "\n",
    "        fi = fi1*fi2     #Fractions interflow\n",
    "\n",
    "        #FractionSUM=1 corrector\n",
    "        if fu+fs+fi > 1.0:\n",
    "            fi=float64(1.0)-fu-fs\n",
    "\n",
    "        co = fs * neersl                    #overland flow\n",
    "        ci = fi * neersl                    #interflow\n",
    "        cg = neersl - co - ci - fu * neersl #rest for slow flow routing\n",
    "\n",
    "##        if cg < 0:          #Corrigeren voor negatieve cg waarden\n",
    "##            #print 'Problem with balance! negative baseflow'\n",
    "##            cg = float64(0.0)\n",
    "#########################################\n",
    "\n",
    "\n",
    "        #if neersl> 0.0:               #checken of som van de deelstromen 1.0 is...\n",
    "        #    print fs+fi+fu+cg/neersl\n",
    "\n",
    "        #Routing\n",
    "        #Linear reservoir for the  3 routing types\n",
    "        qo = qo * np.exp(-1/Ko) + 0.5 * (co + cov) * (1 - np.exp(-1/Ko)) * v  #omzetten nr m3/s voor \"nieuwe\" deel\n",
    "        qi = qi * np.exp(-1/Ki) + 0.5 * (ci + civ) * (1 - np.exp(-1/Ki)) * v\n",
    "        qg = qg * np.exp(-1/Kg) + 0.5 * (cg + cgv) * (1 - np.exp(-1/Kg)) * v\n",
    "        q = qo + qi + qg\n",
    "        #print q\n",
    "\n",
    "        #Outputs\n",
    "        t_out[t] = t+1\n",
    "        q_out[t] = q\n",
    "        qo_out[t] = qo\n",
    "        qi_out[t] = qi\n",
    "        qg_out[t] = qg\n",
    "        u_out[t] = u\n",
    "        fu_out[t] = fu\n",
    "        fe_out[t] = fe\n",
    "        fs_out[t] = fs\n",
    "        fi_out[t] = fi\n",
    "        s_out[t] = s\n",
    "        aet_out[t] = fe\n",
    "        fs1_out[t] = fs1\n",
    "        fs2_out[t] = fs2\n",
    "        fi1_out[t] = fi1\n",
    "        fi2_out[t] = fi2\n",
    "\n",
    "    return [t_out,q_out,qo_out,qi_out,qg_out,u_out,fu_out,fe_out,fs_out,fi_out,s_out,aet_out,fs1_out,fs2_out,fi1_out,fi2_out]"
   ]
  },
  {
   "cell_type": "code",
   "execution_count": 10,
   "metadata": {
    "collapsed": false
   },
   "outputs": [],
   "source": [
    "pars=[umax,uevap,c1s,c2s,c3s,c1o,c2o,c3o,c4o,c1i,c2i,c3i,c4i,nso,Kg,Ki,Ko]\n",
    "const=[area]\n",
    "init_cond = [u,qg,cg,qo,co,qi,ci]\n",
    "trg = VHM(pars, const, init_cond, raindata, petdata, linear=False)"
   ]
  },
  {
   "cell_type": "code",
   "execution_count": 11,
   "metadata": {
    "collapsed": false
   },
   "outputs": [
    {
     "data": {
      "text/plain": [
       "[<matplotlib.lines.Line2D at 0x7fa1ac8cd790>]"
      ]
     },
     "execution_count": 11,
     "metadata": {},
     "output_type": "execute_result"
    },
    {
     "data": {
      "image/png": "[encoded data removed]",
      "text/plain": [
       "<matplotlib.figure.Figure at 0x7fa1ac8e0790>"
      ]
     },
     "metadata": {},
     "output_type": "display_data"
    }
   ],
   "source": [
    "plt.figure()\n",
    "plt.plot(trg[0],trg[1],label='Total flow')\n",
    "plt.plot(trg[0],trg[2],label='Overland flow')\n",
    "plt.plot(trg[0],trg[3],label='Interflow')\n",
    "plt.plot(trg[0],trg[4],label='Baseflow')"
   ]
  },
  {
   "cell_type": "code",
   "execution_count": 21,
   "metadata": {
    "collapsed": false
   },
   "outputs": [
    {
     "data": {
      "text/plain": [
       "[<matplotlib.lines.Line2D at 0x7fa1ac27a210>]"
      ]
     },
     "execution_count": 21,
     "metadata": {},
     "output_type": "execute_result"
    },
    {
     "data": {
      "image/png": "[encoded data removed]",
      "text/plain": [
       "<matplotlib.figure.Figure at 0x7fa1ac478590>"
      ]
     },
     "metadata": {},
     "output_type": "display_data"
    }
   ],
   "source": [
    "plt.figure()\n",
    "plt.plot(trg[0][:500],trg[2][:500],label='soil moisture')\n",
    "plt.plot(trg[0][:500],trg[3][:500],label='soil moisture')\n",
    "plt.plot(trg[0][:500],trg[4][:500],label='soil moisture')"
   ]
  },
  {
   "cell_type": "code",
   "execution_count": null,
   "metadata": {
    "collapsed": true
   },
   "outputs": [],
   "source": []
  },
  {
   "cell_type": "code",
   "execution_count": null,
   "metadata": {
    "collapsed": true
   },
   "outputs": [],
   "source": []
  },
  {
   "cell_type": "code",
   "execution_count": null,
   "metadata": {
    "collapsed": true
   },
   "outputs": [],
   "source": []
  },
  {
   "cell_type": "code",
   "execution_count": null,
   "metadata": {
    "collapsed": true
   },
   "outputs": [],
   "source": []
  },
  {
   "cell_type": "markdown",
   "metadata": {},
   "source": [
    "### Test other solvers"
   ]
  },
  {
   "cell_type": "code",
   "execution_count": 13,
   "metadata": {
    "collapsed": true
   },
   "outputs": [],
   "source": [
    "def deriv(u, t):\n",
    "    rain = rain_int(t)\n",
    "    pet = pet_int(t)\n",
    "    \n",
    "    fu = c1s - np.exp(c2s*(u[0]/umax)**c3s)\n",
    "    ea = pet*u[0]/(uevap)\n",
    "    \n",
    "    fs1 = min(1., np.exp(c1o + c2o*u[0]/umax))\n",
    "    fi1 = min(1., np.exp(c1i + c2i*u[0]/umax))\n",
    "    fg1 = 1. - fs1 - fi1 - fu\n",
    "    \n",
    "    uf = fu*rain - ea\n",
    "    of = fs1*rain - Ko * u[1]\n",
    "    inf = fi1*rain - Ki * u[2]\n",
    "    sf = fg1*rain - Kg * u[3]\n",
    "    return [uf, of, inf, sf]"
   ]
  },
  {
   "cell_type": "code",
   "execution_count": 14,
   "metadata": {
    "collapsed": false
   },
   "outputs": [],
   "source": [
    "totaltime = raindata[:500].values.size  # simtime and steps\n",
    "time_points = np.linspace(0.0, totaltime-1, totaltime)\n",
    "\n",
    "rain_int = interp1d(time_points, raindata[:500].values, kind='nearest', bounds_error=False, fill_value=0.0)\n",
    "pet_int = interp1d(time_points, petdata[:500].values, kind='nearest', bounds_error=False, fill_value=0.0)\n",
    "\n",
    "init_cond = [u, 0.0, 0.0, 0.0]"
   ]
  },
  {
   "cell_type": "markdown",
   "metadata": {},
   "source": [
    "Solve the model"
   ]
  },
  {
   "cell_type": "code",
   "execution_count": 16,
   "metadata": {
    "collapsed": false
   },
   "outputs": [],
   "source": [
    "solver = odespy.Dopri5(deriv)\n",
    "solver.set_initial_condition(init_cond)\n",
    "u, t = solver.solve(time_points)"
   ]
  },
  {
   "cell_type": "code",
   "execution_count": null,
   "metadata": {
    "collapsed": false
   },
   "outputs": [],
   "source": []
  },
  {
   "cell_type": "code",
   "execution_count": 24,
   "metadata": {
    "collapsed": false
   },
   "outputs": [
    {
     "data": {
      "text/plain": [
       "[<matplotlib.lines.Line2D at 0x7fa1a9edc8d0>]"
      ]
     },
     "execution_count": 24,
     "metadata": {},
     "output_type": "execute_result"
    },
    {
     "data": {
      "image/png": "[encoded data removed]",
      "text/plain": [
       "<matplotlib.figure.Figure at 0x7fa1ac13f790>"
      ]
     },
     "metadata": {},
     "output_type": "display_data"
    }
   ],
   "source": [
    "fig, axs = plt.subplots(3, 1)\n",
    "axs[0].plot(t, u[:,1])\n",
    "axs[1].plot(t, u[:,2])\n",
    "axs[2].plot(t, u[:,3])"
   ]
  },
  {
   "cell_type": "code",
   "execution_count": null,
   "metadata": {
    "collapsed": true
   },
   "outputs": [],
   "source": []
  },
  {
   "cell_type": "code",
   "execution_count": null,
   "metadata": {
    "collapsed": true
   },
   "outputs": [],
   "source": []
  },
  {
   "cell_type": "code",
   "execution_count": 18,
   "metadata": {
    "collapsed": false
   },
   "outputs": [
    {
     "data": {
      "text/plain": [
       "['AdamsBashMoulton2',\n",
       " 'AdamsBashMoulton3',\n",
       " 'AdamsBashforth2',\n",
       " 'AdamsBashforth3',\n",
       " 'AdamsBashforth4',\n",
       " 'Backward2Step',\n",
       " 'BackwardEuler',\n",
       " 'BogackiShampine',\n",
       " 'CashKarp',\n",
       " 'CrankNicolson',\n",
       " 'Dop853',\n",
       " 'Dopri5',\n",
       " 'DormandPrince',\n",
       " 'Euler',\n",
       " 'EulerCromer',\n",
       " 'Fehlberg',\n",
       " 'ForwardEuler',\n",
       " 'Heun',\n",
       " 'Leapfrog',\n",
       " 'LeapfrogFiltered',\n",
       " 'Lsoda',\n",
       " 'Lsodar',\n",
       " 'Lsode',\n",
       " 'Lsodes',\n",
       " 'Lsodi',\n",
       " 'Lsodis',\n",
       " 'Lsoibt',\n",
       " 'MidpointImplicit',\n",
       " 'MidpointIter',\n",
       " 'RK2',\n",
       " 'RK3',\n",
       " 'RK34',\n",
       " 'RK4',\n",
       " 'RKC',\n",
       " 'RKF45',\n",
       " 'RKFehlberg',\n",
       " 'Radau5',\n",
       " 'Radau5Explicit',\n",
       " 'Radau5Implicit',\n",
       " 'RungeKutta1',\n",
       " 'RungeKutta2',\n",
       " 'RungeKutta3',\n",
       " 'RungeKutta4',\n",
       " 'ThetaRule',\n",
       " 'Trapezoidal',\n",
       " 'Vode',\n",
       " 'lsoda_scipy',\n",
       " 'odefun_sympy',\n",
       " 'odelab']"
      ]
     },
     "execution_count": 18,
     "metadata": {},
     "output_type": "execute_result"
    }
   ],
   "source": [
    "odespy.list_all_solvers()"
   ]
  }
 ],
 "metadata": {
  "kernelspec": {
   "display_name": "Python 2",
   "language": "python",
   "name": "python2"
  },
  "language_info": {
   "codemirror_mode": {
    "name": "ipython",
    "version": 2
   },
   "file_extension": ".py",
   "mimetype": "text/x-python",
   "name": "python",
   "nbconvert_exporter": "python",
   "pygments_lexer": "ipython2",
   "version": "2.7.10"
  }
 },
 "nbformat": 4,
 "nbformat_minor": 0
}
